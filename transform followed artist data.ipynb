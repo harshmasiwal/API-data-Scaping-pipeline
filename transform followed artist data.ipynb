{
 "cells": [
  {
   "cell_type": "code",
   "execution_count": 0,
   "metadata": {
    "application/vnd.databricks.v1+cell": {
     "cellMetadata": {
      "byteLimit": 2048000,
      "rowLimit": 10000
     },
     "inputWidgets": {},
     "nuid": "2ca9f8ba-68ae-467a-b16e-b97c5d3ff32b",
     "showTitle": false,
     "tableResultSettingsMap": {},
     "title": ""
    }
   },
   "outputs": [],
   "source": [
    "import json \n",
    "from pyspark.sql import Row\n",
    "from pyspark.sql.types import StructType, StructField, StringType, IntegerType\n",
    "from pyspark.sql.functions import col\n",
    "import time"
   ]
  },
  {
   "cell_type": "code",
   "execution_count": 0,
   "metadata": {
    "application/vnd.databricks.v1+cell": {
     "cellMetadata": {
      "byteLimit": 2048000,
      "rowLimit": 10000
     },
     "inputWidgets": {},
     "nuid": "974159ed-4e04-466d-949b-307d9157e688",
     "showTitle": false,
     "tableResultSettingsMap": {},
     "title": ""
    }
   },
   "outputs": [
    {
     "output_type": "stream",
     "name": "stdout",
     "output_type": "stream",
     "text": [
      "0:Khalid Khan\n0:Color Music Choir\n0:Ali Gatie\n0:Prem Dhillon\n0:Nusrat Fateh Ali Khan\n0:Mohammed Rafi\n0:Pankaj Udhas\n0:R. D. Burman\n0:Kumar Sanu\n0:Alan Walker\n0:DIVINE\n0:Parmish Verma\n0:Karan Aujla\n0:Sidhu Moose Wala\n0:Diljit Dosanjh\n0:Imagine Dragons\n0:Drake\n0:Post Malone\n0:Kishore Kumar\n"
     ]
    }
   ],
   "source": [
    "artist_schema = StructType([\n",
    "  StructField(\"ArtistID\", StringType(), True),\n",
    "  StructField(\"Name\", StringType(), True),\n",
    "  StructField(\"followers\", IntegerType(), True)\n",
    "])\n",
    "\n",
    "genre_schema = StructType([\n",
    "  StructField(\"GenreID\", IntegerType(), True),\n",
    "  StructField(\"Name\", StringType(), True)\n",
    "])\n",
    "\n",
    "artist_genre_schema = StructType([\n",
    "  StructField(\"ID\", IntegerType(), True),\n",
    "  StructField(\"ArtistID\", StringType(), True),\n",
    "  StructField(\"GenreID\", IntegerType(), True)\n",
    "])\n",
    "\n",
    "\n",
    "\n",
    "df_artist = spark.createDataFrame([], schema = artist_schema)\n",
    "df_genre = spark.createDataFrame([], schema = genre_schema)\n",
    "df_artist_genre = spark.createDataFrame([], schema = artist_genre_schema)\n",
    "\n",
    "\n",
    "\n",
    "file_path = \"/mnt/raw/followed_artist_data/followed_artists_list.json\"\n",
    "data = spark.read.text(file_path)\n",
    "\n",
    "artist_count = 0\n",
    "genre_data = []\n",
    "\n",
    "lines = data.rdd.map(lambda r:r.value).collect()\n",
    "\n",
    "for line in lines:\n",
    "    all_artists = json.loads(line)\n",
    "\n",
    "\n",
    "for artist in all_artists['items']:\n",
    "    artist_name = artist['name']\n",
    "    artist_id = artist['id']\n",
    "    artist_followers = int(artist['followers']['total'])\n",
    "\n",
    "\n",
    "    artist_row = Row(ArtistID = artist_id, Name = artist_name, followers = artist_followers)\n",
    "                     \n",
    "    df_artist = df_artist.union(spark.createDataFrame([artist_row], schema=artist_schema))\n",
    "\n",
    "    artist_genre = artist['genres']\n",
    "    print(f\"{artist_count}:{artist_name}\")\n",
    "\n",
    "    for genre_name in artist_genre:\n",
    "        genre_data.append(genre_name)\n",
    "\n",
    "distinct_genre_data = set(genre_data)\n",
    "\n",
    "\n",
    "genre_id_mapping = {genre: i + 1 for i, genre in enumerate(distinct_genre_data)}\n",
    "\n",
    "genre_rows = [Row(GenreID = genre_id , Name = genre) for genre, genre_id in genre_id_mapping.items()]\n",
    "\n",
    "df_genre = df_genre.union(spark.createDataFrame(genre_rows, schema = genre_schema))"
   ]
  },
  {
   "cell_type": "code",
   "execution_count": 0,
   "metadata": {
    "application/vnd.databricks.v1+cell": {
     "cellMetadata": {
      "byteLimit": 2048000,
      "rowLimit": 10000
     },
     "inputWidgets": {},
     "nuid": "616613d6-a1d4-4a20-a28f-802a0c3a9402",
     "showTitle": false,
     "tableResultSettingsMap": {},
     "title": ""
    }
   },
   "outputs": [
    {
     "output_type": "stream",
     "name": "stdout",
     "output_type": "stream",
     "text": [
      "+-------+--------------------+\n|GenreID|                Name|\n+-------+--------------------+\n|      1|                sufi|\n|      2|         punjabi pop|\n|      3|        desi hip hop|\n|      4|    canadian hip hop|\n|      5|         melodic rap|\n|      6|      pakistani folk|\n|      7|   classic bollywood|\n|      8|         modern rock|\n|      9|   pakistani hip hop|\n|     10|    modern bollywood|\n|     11|             pop rap|\n|     12|       indian fusion|\n|     13|classic pakistani...|\n|     14|             qawwali|\n|     15|               filmi|\n|     16|             chutney|\n|     17|        canadian pop|\n|     18|                 rap|\n|     19|              ghazal|\n|     20|           desi trap|\n+-------+--------------------+\nonly showing top 20 rows\n\nNumber of rows in df_genre: 28\n"
     ]
    }
   ],
   "source": [
    "df_genre.show()\n",
    "row_count = df_genre.count()\n",
    "print(f\"Number of rows in df_genre: {row_count}\")"
   ]
  },
  {
   "cell_type": "code",
   "execution_count": 0,
   "metadata": {
    "application/vnd.databricks.v1+cell": {
     "cellMetadata": {
      "byteLimit": 2048000,
      "rowLimit": 10000
     },
     "inputWidgets": {},
     "nuid": "bef083b3-470e-4d46-be1b-905c29834d28",
     "showTitle": false,
     "tableResultSettingsMap": {},
     "title": ""
    }
   },
   "outputs": [
    {
     "output_type": "stream",
     "name": "stdout",
     "output_type": "stream",
     "text": [
      "+---+--------------------+-------+\n| ID|            ArtistID|GenreID|\n+---+--------------------+-------+\n|  1|4rTv3Ejc7hKMtmoBO...|      4|\n|  2|6IP4VnqS1pOiQcPVP...|      2|\n|  3|5HcunTidTUrOaf8V0...|     13|\n|  4|5HcunTidTUrOaf8V0...|     15|\n|  5|5HcunTidTUrOaf8V0...|     12|\n|  6|5HcunTidTUrOaf8V0...|      6|\n|  7|5HcunTidTUrOaf8V0...|     14|\n|  8|5HcunTidTUrOaf8V0...|      1|\n|  9|5HcunTidTUrOaf8V0...|     26|\n| 10|0gXDpqwYNDODn7fB0...|      7|\n| 11|0gXDpqwYNDODn7fB0...|     15|\n| 12|4Qpbhxe0sO2zhvUVf...|      7|\n| 13|4Qpbhxe0sO2zhvUVf...|     15|\n| 14|4Qpbhxe0sO2zhvUVf...|     19|\n| 15|2JSYASbWU5Y0fVpts...|     16|\n| 16|2JSYASbWU5Y0fVpts...|      7|\n| 17|2JSYASbWU5Y0fVpts...|     15|\n| 18|4K6blSRoklNdpw4mz...|     15|\n| 19|4K6blSRoklNdpw4mz...|     10|\n| 20|7vk5e3vY1uw9plTHJ...|     28|\n+---+--------------------+-------+\nonly showing top 20 rows\n\nNumber of rows in df_artist_genre: 47\n"
     ]
    }
   ],
   "source": [
    "max_artist_genre_id = df_artist_genre.agg({\"ArtistID\": \"max\"}).collect()[0][0] or 0\n",
    "artist_genre_data = []\n",
    "\n",
    "for line in lines:\n",
    "    all_artists = json.loads(line)\n",
    "\n",
    "\n",
    "for artist in all_artists['items']:\n",
    "    artist_id = artist['id']\n",
    "    artist_genre = artist['genres']\n",
    "\n",
    "\n",
    "    for genre_name in artist_genre:\n",
    "      genre_id = df_genre.filter(col(\"Name\") == genre_name).select(\"GenreID\").collect()[0][0]\n",
    "\n",
    "      max_artist_genre_id += 1\n",
    "      artist_genre_id = max_artist_genre_id\n",
    "      artist_genre_data.append((artist_genre_id, artist_id, genre_id))\n",
    "\n",
    "\n",
    "\n",
    "\n",
    "df_artist_genre = df_artist_genre.union(spark.createDataFrame(artist_genre_data, schema = artist_genre_schema))\n",
    "df_artist_genre.show()\n",
    "row_count = df_artist_genre.count()\n",
    "print(f\"Number of rows in df_artist_genre: {row_count}\")"
   ]
  },
  {
   "cell_type": "code",
   "execution_count": 0,
   "metadata": {
    "application/vnd.databricks.v1+cell": {
     "cellMetadata": {
      "byteLimit": 2048000,
      "rowLimit": 10000
     },
     "inputWidgets": {},
     "nuid": "5153871e-085b-4ccc-8a2e-458dca297d03",
     "showTitle": false,
     "tableResultSettingsMap": {},
     "title": ""
    }
   },
   "outputs": [],
   "source": [
    "df_genre.write.mode(\"overwrite\").csv(\"/mnt/processed/processed-genre-data\")\n",
    "df_artist.write.mode(\"overwrite\").csv(\"/mnt/processed/processed-artist-data\")\n",
    "df_artist_genre.write.mode(\"overwrite\").csv(\"/mnt/processed/processed-artist-genre-data\")\n",
    "\n"
   ]
  },
  {
   "cell_type": "code",
   "execution_count": 0,
   "metadata": {
    "application/vnd.databricks.v1+cell": {
     "cellMetadata": {
      "byteLimit": 2048000,
      "rowLimit": 10000
     },
     "inputWidgets": {},
     "nuid": "407018c8-af2a-4262-8053-34f6cb22086e",
     "showTitle": false,
     "tableResultSettingsMap": {},
     "title": ""
    }
   },
   "outputs": [
    {
     "output_type": "stream",
     "name": "stdout",
     "output_type": "stream",
     "text": [
      "+---+--------+-------+\n| ID|ArtistID|GenreID|\n+---+--------+-------+\n+---+--------+-------+\n\n"
     ]
    }
   ],
   "source": [
    "duplicates = df_artist_genre.subtract(df_artist_genre.dropDuplicates())\n",
    "duplicates.show()"
   ]
  },
  {
   "cell_type": "code",
   "execution_count": 0,
   "metadata": {
    "application/vnd.databricks.v1+cell": {
     "cellMetadata": {
      "byteLimit": 2048000,
      "rowLimit": 10000
     },
     "inputWidgets": {},
     "nuid": "830ab866-2b91-487a-846a-c964632e1b10",
     "showTitle": false,
     "tableResultSettingsMap": {},
     "title": ""
    }
   },
   "outputs": [],
   "source": []
  }
 ],
 "metadata": {
  "application/vnd.databricks.v1+notebook": {
   "dashboards": [],
   "environmentMetadata": {
    "base_environment": "",
    "client": "1"
   },
   "language": "python",
   "notebookMetadata": {
    "pythonIndentUnit": 2
   },
   "notebookName": "transform followed artist data",
   "widgets": {}
  },
  "language_info": {
   "name": "python"
  }
 },
 "nbformat": 4,
 "nbformat_minor": 0
}