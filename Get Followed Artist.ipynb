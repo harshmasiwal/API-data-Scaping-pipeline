{
 "cells": [
  {
   "cell_type": "code",
   "execution_count": 2,
   "id": "1e59ad40",
   "metadata": {},
   "outputs": [
    {
     "name": "stdout",
     "output_type": "stream",
     "text": [
      "<spotipy.client.Spotify object at 0x7fb0c2591cd0>\n"
     ]
    }
   ],
   "source": [
    "import spotipy\n",
    "from spotipy.oauth2 import SpotifyOAuth\n",
    "import json\n",
    "\n",
    "client_id = \"9c7ddd1d172e4c3086d205d3c36991f6\"\n",
    "client_secret = \"3478e2286a7442a18573420b3f90dfe1\"\n",
    "redirect_uri = \"http://localhost:6060/callback\"\n",
    "scope = \"user-follow-read\"\n",
    "\n",
    "sp = spotipy.Spotify(auth_manager=SpotifyOAuth(\n",
    "    client_id=client_id,\n",
    "    client_secret=client_secret,\n",
    "    redirect_uri=redirect_uri,\n",
    "    scope=scope\n",
    "))\n",
    "\n",
    "print(sp)\n",
    "\n",
    "all_artists = sp.current_user_followed_artists(limit=20, after=None)\n",
    "#print(all_artists)\n",
    "\n",
    "with open('followed_artists_list.json', 'a', encoding = 'utf-8') as file:\n",
    "    all_artists = sp.current_user_followed_artists(limit=20, after=None)\n",
    "    artist_info = all_artists['artists']\n",
    "    \n",
    "    json.dump(artist_info, file, ensure_ascii = False)\n",
    "    file.write('\\n')\n",
    "    \n",
    "    "
   ]
  },
  {
   "cell_type": "code",
   "execution_count": 4,
   "id": "6366da04",
   "metadata": {},
   "outputs": [
    {
     "name": "stdout",
     "output_type": "stream",
     "text": [
      "1:Khalid Khan\n",
      "2:Color Music Choir\n",
      "3:Ali Gatie\n",
      "4:Prem Dhillon\n",
      "5:Nusrat Fateh Ali Khan\n",
      "6:Mohammed Rafi\n",
      "7:Pankaj Udhas\n",
      "8:R. D. Burman\n",
      "9:Kumar Sanu\n",
      "10:Alan Walker\n",
      "11:DIVINE\n",
      "12:Parmish Verma\n",
      "13:Karan Aujla\n",
      "14:Sidhu Moose Wala\n",
      "15:Diljit Dosanjh\n",
      "16:Imagine Dragons\n",
      "17:Drake\n",
      "18:Post Malone\n",
      "19:Kishore Kumar\n"
     ]
    }
   ],
   "source": [
    "count = 0\n",
    "\n",
    "for artists in artist_info['items']:\n",
    "    artists_name = artists['name']\n",
    "    count += 1\n",
    "    print(f\"{count}:{artists_name}\")\n",
    "    "
   ]
  },
  {
   "cell_type": "code",
   "execution_count": null,
   "id": "d13a9711",
   "metadata": {},
   "outputs": [],
   "source": []
  }
 ],
 "metadata": {
  "kernelspec": {
   "display_name": "Python 3 (ipykernel)",
   "language": "python",
   "name": "python3"
  },
  "language_info": {
   "codemirror_mode": {
    "name": "ipython",
    "version": 3
   },
   "file_extension": ".py",
   "mimetype": "text/x-python",
   "name": "python",
   "nbconvert_exporter": "python",
   "pygments_lexer": "ipython3",
   "version": "3.9.13"
  }
 },
 "nbformat": 4,
 "nbformat_minor": 5
}
